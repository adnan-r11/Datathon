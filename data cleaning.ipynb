{
 "cells": [
  {
   "cell_type": "code",
   "execution_count": 1,
   "metadata": {},
   "outputs": [],
   "source": [
    "import os\n",
    "import pandas as pd\n",
    "import matplotlib.pyplot as plt\n",
    "%matplotlib inline"
   ]
  },
  {
   "cell_type": "markdown",
   "metadata": {},
   "source": [
    "### Novel Coronavirus 2019 dataset"
   ]
  },
  {
   "cell_type": "code",
   "execution_count": 3,
   "metadata": {},
   "outputs": [],
   "source": [
    "df_confirmed_raw = pd.read_csv(\"Data/00 Core/Novel Coronavirus 2019 datasets/time_series_covid_19_confirmed.csv\")\n",
    "df_deaths_raw = pd.read_csv(\"Data/00 Core/Novel Coronavirus 2019 datasets/time_series_covid_19_deaths.csv\")\n",
    "df_recovered_raw = pd.read_csv(\"Data/00 Core/Novel Coronavirus 2019 datasets/time_series_covid_19_recovered.csv\")"
   ]
  },
  {
   "cell_type": "code",
   "execution_count": 4,
   "metadata": {},
   "outputs": [],
   "source": [
    "df_confirmed = (pd.melt(df_confirmed_raw, id_vars=\"Country/Region\", value_vars=df_confirmed_raw.columns[4:])\n",
    "          .rename(columns={\"variable\": \"Date\", \"value\": \"confirmed\"})\n",
    "          .assign(Date=lambda x: pd.to_datetime(x.Date))\n",
    "          .groupby([\"Country/Region\", \"Date\"])\n",
    "          .sum()\n",
    "          .reset_index().rename(columns={\"Country/Region\": \"Country\"}))\n",
    "\n",
    "df_deaths = (pd.melt(df_deaths_raw, id_vars=\"Country/Region\",value_vars=df_deaths_raw.columns[4:])\n",
    "          .rename(columns={\"variable\": \"Date\", \"value\": \"deaths\"})\n",
    "          .assign(Date=lambda x: pd.to_datetime(x.Date))\n",
    "          .groupby([\"Country/Region\", \"Date\"])\n",
    "          .sum()\n",
    "          .reset_index().rename(columns={\"Country/Region\": \"Country\"}))\n",
    "\n",
    "df_recovered = (pd.melt(df_recovered_raw, id_vars=\"Country/Region\",value_vars=df_recovered_raw.columns[4:])\n",
    "          .rename(columns={\"variable\": \"Date\", \"value\": \"recovered\"})\n",
    "          .assign(Date=lambda x: pd.to_datetime(x.Date))\n",
    "          .groupby([\"Country/Region\", \"Date\"])\n",
    "          .sum()\n",
    "          .reset_index().rename(columns={\"Country/Region\": \"Country\"}))\n"
   ]
  },
  {
   "cell_type": "code",
   "execution_count": 5,
   "metadata": {},
   "outputs": [],
   "source": [
    "df_merged = pd.merge(df_confirmed, df_deaths, how=\"outer\", on=[\"Country\", \"Date\"])\n",
    "df_merged = pd.merge(df_merged, df_recovered, how=\"outer\", on=[\"Country\", \"Date\"])"
   ]
  },
  {
   "cell_type": "code",
   "execution_count": 8,
   "metadata": {},
   "outputs": [],
   "source": [
    "pd.to_pickle(df_merged, \"Data/novel_clean.pkl\")\n",
    "df_merged.to_csv(\"Data/Novel Coronavirus Clean.csv\")"
   ]
  },
  {
   "cell_type": "markdown",
   "metadata": {},
   "source": [
    "### Governance tracker"
   ]
  },
  {
   "cell_type": "code",
   "execution_count": 9,
   "metadata": {},
   "outputs": [
    {
     "name": "stderr",
     "output_type": "stream",
     "text": [
      "/opt/anaconda3/lib/python3.7/site-packages/IPython/core/interactiveshell.py:3058: DtypeWarning:\n",
      "\n",
      "Columns (2,3) have mixed types. Specify dtype option on import or set low_memory=False.\n",
      "\n"
     ]
    }
   ],
   "source": [
    "df_CGRT_raw = pd.read_csv(\"Data/00 Core/Oxford Covid-19 Government Response Tracker/OxCGRT_latest.csv\")"
   ]
  },
  {
   "cell_type": "code",
   "execution_count": 10,
   "metadata": {},
   "outputs": [],
   "source": [
    "display_index_cols = [col for col in df_CGRT_raw.columns if 'index' in col.lower() and 'display' in col.lower()]\n",
    "\n",
    "df_CGRT = (df_CGRT_raw\n",
    "           .assign(Date=lambda x: pd.to_datetime(x.Date, format=\"%Y%m%d\"))\n",
    "           .groupby([\"CountryName\", \"CountryCode\", \"Date\"])\n",
    "           [display_index_cols]\n",
    "           .mean()\n",
    "           .reset_index())"
   ]
  },
  {
   "cell_type": "code",
   "execution_count": 13,
   "metadata": {},
   "outputs": [],
   "source": [
    "pd.to_pickle(df_CGRT, \"Data/governance_clean.pkl\")\n",
    "df_CGRT.to_csv(\"Data/Governance Response Tracker clean.csv\")"
   ]
  },
  {
   "cell_type": "markdown",
   "metadata": {},
   "source": [
    "### Community mobility"
   ]
  },
  {
   "cell_type": "code",
   "execution_count": 14,
   "metadata": {},
   "outputs": [
    {
     "name": "stderr",
     "output_type": "stream",
     "text": [
      "/opt/anaconda3/lib/python3.7/site-packages/IPython/core/interactiveshell.py:3058: DtypeWarning:\n",
      "\n",
      "Columns (4) have mixed types. Specify dtype option on import or set low_memory=False.\n",
      "\n"
     ]
    }
   ],
   "source": [
    "df_mobility_raw = pd.read_csv(\"Data/00 Core/Community mobility reports/Global_Mobility_Report.csv\")"
   ]
  },
  {
   "cell_type": "code",
   "execution_count": 15,
   "metadata": {},
   "outputs": [],
   "source": [
    "value_cols = list(df_mobility_raw.columns[8:])\n",
    "df_mobility = df_mobility_raw.groupby([\"country_region\", \"date\"])[value_cols].mean().reset_index()"
   ]
  },
  {
   "cell_type": "code",
   "execution_count": 18,
   "metadata": {},
   "outputs": [],
   "source": [
    "pd.to_pickle(df_mobility, \"Data/mobility_clean.pkl\")\n",
    "df_mobility.to_csv(\"Data/Global Mobility Report clean.csv\")"
   ]
  },
  {
   "cell_type": "markdown",
   "metadata": {},
   "source": [
    "### Health systems data"
   ]
  },
  {
   "cell_type": "code",
   "execution_count": 19,
   "metadata": {},
   "outputs": [],
   "source": [
    "df_health = pd.read_csv(\"Data/01 Suggested/World development indicators - health systems/2.12_Health_systems.csv\")"
   ]
  }
 ],
 "metadata": {
  "kernelspec": {
   "display_name": "Python 3",
   "language": "python",
   "name": "python3"
  },
  "language_info": {
   "codemirror_mode": {
    "name": "ipython",
    "version": 3
   },
   "file_extension": ".py",
   "mimetype": "text/x-python",
   "name": "python",
   "nbconvert_exporter": "python",
   "pygments_lexer": "ipython3",
   "version": "3.7.4"
  }
 },
 "nbformat": 4,
 "nbformat_minor": 2
}

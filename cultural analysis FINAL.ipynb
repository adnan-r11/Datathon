{
 "cells": [
  {
   "cell_type": "code",
   "execution_count": 1,
   "metadata": {},
   "outputs": [],
   "source": [
    "import os\n",
    "import pandas as pd\n",
    "import numpy as np\n",
    "import matplotlib.pyplot as plt\n",
    "%matplotlib inline\n",
    "import re\n",
    "from scipy import stats\n",
    "import seaborn as sns\n",
    "import statsmodels.api as sm"
   ]
  },
  {
   "cell_type": "markdown",
   "metadata": {},
   "source": [
    "### Description of the data"
   ]
  },
  {
   "cell_type": "markdown",
   "metadata": {},
   "source": [
    "- Government response\n",
    "    - Stringency (C1 - C8): school closing, restrictions on gatherings etc.\n",
    "    - Containment health (C1 - C8, H1 - H3): stringency + information, testing, contract tracing\n",
    "    - Government response (C1 - C8, E1 - E2, H1 - H3):  containment + income support, debt contract relief\n",
    "    - Economic support (E1 - E2 only)\n",
    "    - Not used (E3 - E4, H4 - H5, M1)\n",
    "\n",
    "- Cultural factors\n",
    "    - PDI: extent to which the less powerful members accept that power is distributed unequally, higher value = hierarchy is clearly established and executed in society, without doubt or reason\n",
    "    - IDV: degree to which people in a society are integrated into groups\n",
    "    - UAI: a society's tolerance for ambiguity\n",
    "    - MAS: preference in achievement for heroism, assertiveness and material rewards for success\n",
    "    - LTO: high = more oriented to the future/ being more pragmatic, less on past traditions\n",
    "    - IND: measure of happiness; if simple joys are fulfilled"
   ]
  },
  {
   "cell_type": "markdown",
   "metadata": {},
   "source": [
    "### Data preparation"
   ]
  },
  {
   "cell_type": "code",
   "execution_count": 2,
   "metadata": {},
   "outputs": [
    {
     "name": "stderr",
     "output_type": "stream",
     "text": [
      "/opt/anaconda3/lib/python3.7/site-packages/IPython/core/interactiveshell.py:3058: DtypeWarning:\n",
      "\n",
      "Columns (2,3) have mixed types. Specify dtype option on import or set low_memory=False.\n",
      "\n"
     ]
    }
   ],
   "source": [
    "df_govt_raw = pd.read_csv(\"Data/00 Core/Oxford Covid-19 Government Response Tracker/OxCGRT_latest.csv\")\n",
    "cols = [col for col in df_govt_raw.columns if \"display\" in col.lower()]\n",
    "\n",
    "df_govt = (df_govt_raw\n",
    "           .assign(Date=lambda x: pd.to_datetime(x.Date, format=\"%Y%m%d\"))\n",
    "           .groupby([\"CountryName\", \"Date\"])\n",
    "           [cols]\n",
    "           .mean()\n",
    "           .rename(columns=dict(zip(cols, [re.sub(\"ForDisplay\", \"\", col) for col in cols])))\n",
    "           .reset_index())\n",
    "df_govt_max = df_govt.drop(columns=[\"Date\", \"StringencyLegacyIndex\"]).groupby([\"CountryName\"]).max()\n",
    "index_cols = [col for col in df_govt_max.columns if \"index\" in col.lower()]"
   ]
  },
  {
   "cell_type": "code",
   "execution_count": 3,
   "metadata": {},
   "outputs": [],
   "source": [
    "df_culture_raw = pd.read_csv(\"Data/01 Suggested/Hofstede national culture dimensions (2015)/6-dimensions-for-website-2015-08-16.csv\", sep=\";\")\n",
    "df_culture = (df_culture_raw.drop([\"ctr\"], axis=1)\n",
    "              .rename(columns={\"country\": \"CountryName\"}))\n",
    "culture_cols = [col for col in df_culture.columns if \"CountryName\" not in col]\n",
    "df_culture[culture_cols] = df_culture[culture_cols].apply(pd.to_numeric, errors=\"coerce\")\n",
    "df_culture.dropna(inplace=True)\n"
   ]
  },
  {
   "cell_type": "code",
   "execution_count": 4,
   "metadata": {},
   "outputs": [],
   "source": [
    "df_cases_raw = pd.read_pickle(\"Data/novel_clean.pkl\")\n",
    "df_cases = (df_cases_raw\n",
    "            .drop(\"Date\", axis=1)\n",
    "            .rename(columns={\"Country\": \"CountryName\"})\n",
    "            .groupby(\"CountryName\")\n",
    "            .last())\n",
    "\n",
    "df_cases[\"recovered_rate\"] = df_cases[\"recovered\"] / df_cases[\"confirmed\"]\n",
    "df_cases[\"death_rate\"] = df_cases[\"deaths\"] / df_cases[\"confirmed\"]"
   ]
  },
  {
   "cell_type": "code",
   "execution_count": 5,
   "metadata": {},
   "outputs": [],
   "source": [
    "df_govt_resp = df_govt[[\"CountryName\", \"Date\", \"GovernmentResponseIndex\"]].copy()\n",
    "df_govt_resp[\"max_response\"] = (df_govt_resp\n",
    "                                .groupby(\"CountryName\")[\"GovernmentResponseIndex\"]\n",
    "                                .transform(lambda x: max(x)))\n",
    "\n",
    "df_govt_resp[\"flag\"] = np.where(df_govt_resp[\"GovernmentResponseIndex\"] > 0.75 * df_govt_resp[\"max_response\"], 1, 0)\n",
    "df_govt_resp_first =(df_govt_resp[lambda x: x.flag == 1]\n",
    "                     .groupby(\"CountryName\")\n",
    "                     .agg({\"Date\": \"first\"})\n",
    "                     .reset_index()\n",
    "                     .rename(columns={\"Date\": \"Date_response\"}))\n",
    "\n",
    "df_first_case = (df_cases_raw[lambda x: x.confirmed > 0]\n",
    "                 .groupby(\"Country\")[[\"Date\"]]\n",
    "                 .first().reset_index()\n",
    "                 .rename(columns={\"Date\": \"Date_first_case\",\n",
    "                                  \"Country\": \"CountryName\"}))\n",
    "\n",
    "df_govt_resp = pd.merge(df_govt_resp_first, df_first_case, on=\"CountryName\")\n",
    "df_govt_resp[\"response_time\"] = (df_govt_resp[\"Date_response\"] - df_govt_resp[\"Date_first_case\"]).dt.days"
   ]
  },
  {
   "cell_type": "code",
   "execution_count": 6,
   "metadata": {},
   "outputs": [],
   "source": [
    "df_mobility_raw = pd.read_pickle(\"Data/mobility_clean.pkl\")\n",
    "df_mobility = (df_mobility_raw\n",
    "               .drop(\"date\", axis=1)\n",
    "               .rename(columns={\"country_region\": \"CountryName\"})\n",
    "               .groupby(\"CountryName\")\n",
    "               .mean()\n",
    "               .reset_index())"
   ]
  },
  {
   "cell_type": "code",
   "execution_count": 8,
   "metadata": {},
   "outputs": [],
   "source": [
    "# save files to perform regression in R\n",
    "df_merged1 = pd.merge(df_govt_max, df_culture, on=\"CountryName\")\n",
    "df_merged1.to_csv(\"Data/govt_culture.csv\")\n",
    "df_merged2 = pd.merge(df_merged1, df_cases, on=\"CountryName\")\n",
    "df_merged2 = pd.merge(df_merged2, df_govt_resp, on=\"CountryName\")\n",
    "df_merged2.to_csv(\"Data/govt_culture_cases.csv\")\n",
    "df_merged3 = pd.merge(df_merged2, df_mobility, on=\"CountryName\")\n",
    "df_merged3.to_csv(\"Data/govt_culture_cases_mobility.csv\")"
   ]
  },
  {
   "cell_type": "markdown",
   "metadata": {},
   "source": [
    "## Analysis"
   ]
  },
  {
   "cell_type": "markdown",
   "metadata": {},
   "source": [
    "### Amount of government response"
   ]
  },
  {
   "cell_type": "markdown",
   "metadata": {},
   "source": [
    "- Countries with high ltowvs (long-term vs short-term orientation) have less Government response\n",
    "- High ltowvs indicates that the country is more future looking and pragmatic than traditional\n",
    "- These countries are unlikely to implement too many restrictions and inhibit innovation\n",
    "- Some of examples of these are Taiwan, Japan, China and Germany"
   ]
  },
  {
   "cell_type": "code",
   "execution_count": 10,
   "metadata": {},
   "outputs": [
    {
     "data": {
      "text/plain": [
       "Text(0, 0.5, 'Government response')"
      ]
     },
     "execution_count": 10,
     "metadata": {},
     "output_type": "execute_result"
    },
    {
     "data": {
      "image/png": "[encoded data removed]",
      "text/plain": [
       "<Figure size 864x360 with 1 Axes>"
      ]
     },
     "metadata": {
      "needs_background": "light"
     },
     "output_type": "display_data"
    }
   ],
   "source": [
    "plt.figure(figsize=(12, 5))\n",
    "plt.title(\"Government response vs LTO\", size=25)\n",
    "sns.regplot(x=\"ltowvs\", y=\"GovernmentResponseIndex\", data=df_merged2, ci=None)\n",
    "plt.xlabel(\"LTO\", size=20)\n",
    "plt.ylabel(\"Government response\", size=20)"
   ]
  },
  {
   "cell_type": "markdown",
   "metadata": {},
   "source": [
    "- Countries with high \"ivr\" also implement less restrictions\n",
    "- IVR stands for indulgence vs restraint, a higher value indicates a more indulgent society\n",
    "- This also makes sense, more indulgent societies are less likely to be restricted\n",
    "- However, simply plotting ivr against the GovernmentResponseIndex, the effect is less clear"
   ]
  },
  {
   "cell_type": "markdown",
   "metadata": {},
   "source": [
    "- We also ran regressions with stringency and containment health indexes as responses\n",
    "- Results mostly co-indicde, final models contain both ivr and ltowvs with negative coefficients, however, only ltowvs has a significant coefficients"
   ]
  },
  {
   "cell_type": "code",
   "execution_count": 11,
   "metadata": {},
   "outputs": [
    {
     "data": {
      "text/plain": [
       "Text(0, 0.5, 'Government response')"
      ]
     },
     "execution_count": 11,
     "metadata": {},
     "output_type": "execute_result"
    },
    {
     "data": {
      "image/png": "[encoded data removed]",
      "text/plain": [
       "<Figure size 864x360 with 1 Axes>"
      ]
     },
     "metadata": {
      "needs_background": "light"
     },
     "output_type": "display_data"
    }
   ],
   "source": [
    "plt.figure(figsize=(12, 5))\n",
    "plt.title(\"Government response vs IND\", size=25)\n",
    "sns.regplot(x=\"ivr\", y=\"GovernmentResponseIndex\", data=df_merged2, ci=None)\n",
    "plt.xlabel(\"IND\", size=20)\n",
    "plt.ylabel(\"Government response\", size=20)"
   ]
  },
  {
   "cell_type": "markdown",
   "metadata": {},
   "source": [
    "### Translation to higher death rate or lower recovery rate"
   ]
  },
  {
   "cell_type": "markdown",
   "metadata": {},
   "source": [
    "- Despite less government policies associated with ltowvs, there isn't a significant increase in the death rate in these countries\n",
    "- Interestingly, \"idv\" has a significant positive coefficient, indicating that more individualistic countries suffer from a higher death rate\n",
    "- Good reminder that we should help each other out in times of crisis, rather than isolating by ourselvesm"
   ]
  },
  {
   "cell_type": "code",
   "execution_count": null,
   "metadata": {},
   "outputs": [],
   "source": [
    "plt.figure(figsize=(12, 5))\n",
    "plt.title(\"Death rate vs IDV\", size=25)\n",
    "sns.regplot(x=\"idv\", y=\"death_rate\", data=df_merged2, ci=None)\n",
    "plt.xlabel(\"IDV\", size=20)\n",
    "plt.ylabel(\"Death rate\", size=20)"
   ]
  }
 ],
 "metadata": {
  "kernelspec": {
   "display_name": "Python 3",
   "language": "python",
   "name": "python3"
  },
  "language_info": {
   "codemirror_mode": {
    "name": "ipython",
    "version": 3
   },
   "file_extension": ".py",
   "mimetype": "text/x-python",
   "name": "python",
   "nbconvert_exporter": "python",
   "pygments_lexer": "ipython3",
   "version": "3.7.4"
  }
 },
 "nbformat": 4,
 "nbformat_minor": 2
}
